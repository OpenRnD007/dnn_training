{
  "nbformat": 4,
  "nbformat_minor": 0,
  "metadata": {
    "colab": {
      "provenance": []
    },
    "kernelspec": {
      "name": "python3",
      "display_name": "Python 3"
    },
    "language_info": {
      "name": "python"
    },
    "accelerator": "GPU",
    "gpuClass": "standard"
  },
  "cells": [
    {
      "cell_type": "code",
      "execution_count": 80,
      "metadata": {
        "id": "BGOkwITJDAri"
      },
      "outputs": [],
      "source": [
        "import torch\n",
        "from torch import nn\n",
        "import matplotlib.pyplot as plt"
      ]
    },
    {
      "cell_type": "code",
      "source": [
        "torch.__version__"
      ],
      "metadata": {
        "colab": {
          "base_uri": "https://localhost:8080/",
          "height": 35
        },
        "id": "9eaOn-2vDXQn",
        "outputId": "d31ee430-a300-4b9f-c419-0c8c505992e0"
      },
      "execution_count": 81,
      "outputs": [
        {
          "output_type": "execute_result",
          "data": {
            "text/plain": [
              "'1.13.1+cu116'"
            ],
            "application/vnd.google.colaboratory.intrinsic+json": {
              "type": "string"
            }
          },
          "metadata": {},
          "execution_count": 81
        }
      ]
    },
    {
      "cell_type": "code",
      "source": [
        "device = \"cuda\" if torch.cuda.is_available() else \"cpu\"\n",
        "print(f\"Device = {device}\")"
      ],
      "metadata": {
        "colab": {
          "base_uri": "https://localhost:8080/"
        },
        "id": "W0f8WgZ_Db6R",
        "outputId": "076c22fb-c9c5-4041-8f6f-df5e6fbe1c0b"
      },
      "execution_count": 82,
      "outputs": [
        {
          "output_type": "stream",
          "name": "stdout",
          "text": [
            "Device = cuda\n"
          ]
        }
      ]
    },
    {
      "cell_type": "code",
      "source": [
        "# Data using wx+b formula \n",
        "weights= 0.7\n",
        "bias = 0.3\n",
        "\n",
        "start = 0\n",
        "end = 1\n",
        "step = 0.02\n",
        "\n",
        "X = torch.arange(start, end, step).unsqueeze(dim=1)\n",
        "y = weights * X + bias\n",
        "\n",
        "X[:5], y[:5]"
      ],
      "metadata": {
        "colab": {
          "base_uri": "https://localhost:8080/"
        },
        "id": "SDFSjeXqECEL",
        "outputId": "2594644e-ac34-4654-e245-16aec095cac1"
      },
      "execution_count": 83,
      "outputs": [
        {
          "output_type": "execute_result",
          "data": {
            "text/plain": [
              "(tensor([[0.0000],\n",
              "         [0.0200],\n",
              "         [0.0400],\n",
              "         [0.0600],\n",
              "         [0.0800]]), tensor([[0.3000],\n",
              "         [0.3140],\n",
              "         [0.3280],\n",
              "         [0.3420],\n",
              "         [0.3560]]))"
            ]
          },
          "metadata": {},
          "execution_count": 83
        }
      ]
    },
    {
      "cell_type": "code",
      "source": [
        "#Split Data train, test\n",
        "train_split = int(0.8 * len(X))\n",
        "X_train, y_train = X[:train_split], y[:train_split]\n",
        "X_test, y_test = X[train_split:], y[train_split:]\n",
        "\n",
        "len(X_test), len(y_test), len(X_train), len(y_train)"
      ],
      "metadata": {
        "colab": {
          "base_uri": "https://localhost:8080/"
        },
        "id": "PJICXb3RE469",
        "outputId": "28e05bdd-278e-4992-ed23-1c5217103233"
      },
      "execution_count": 84,
      "outputs": [
        {
          "output_type": "execute_result",
          "data": {
            "text/plain": [
              "(10, 10, 40, 40)"
            ]
          },
          "metadata": {},
          "execution_count": 84
        }
      ]
    },
    {
      "cell_type": "code",
      "source": [
        "def plot_predictions(train_data=X_train, \n",
        "                     train_labels=y_train, \n",
        "                     test_data=X_test, \n",
        "                     test_labels=y_test, \n",
        "                     predictions=None):\n",
        "  \"\"\"\n",
        "  Plots training data, test data and compares predictions.\n",
        "  \"\"\"\n",
        "  plt.figure(figsize=(10, 7))\n",
        "\n",
        "  # Plot training data in blue\n",
        "  plt.scatter(train_data, train_labels, c=\"b\", s=4, label=\"Training data\")\n",
        "  \n",
        "  # Plot test data in green\n",
        "  plt.scatter(test_data, test_labels, c=\"g\", s=4, label=\"Testing data\")\n",
        "\n",
        "  if predictions is not None:\n",
        "    # Plot the predictions in red (predictions were made on the test data)\n",
        "    plt.scatter(test_data, predictions, c=\"r\", s=4, label=\"Predictions\")\n",
        "\n",
        "  # Show the legend\n",
        "  plt.legend(prop={\"size\": 14});"
      ],
      "metadata": {
        "id": "asZxJTUtG1Ye"
      },
      "execution_count": 85,
      "outputs": []
    },
    {
      "cell_type": "code",
      "source": [
        "plot_predictions(X_train, y_train, X_test, y_test)"
      ],
      "metadata": {
        "colab": {
          "base_uri": "https://localhost:8080/",
          "height": 428
        },
        "id": "k1QeyABRHQe5",
        "outputId": "8358d05e-0578-49c2-f367-decf47e6dd6e"
      },
      "execution_count": 86,
      "outputs": [
        {
          "output_type": "display_data",
          "data": {
            "text/plain": [
              "<Figure size 720x504 with 1 Axes>"
            ],
            "image/png": "[encoded data removed]"
          },
          "metadata": {
            "needs_background": "light"
          }
        }
      ]
    },
    {
      "cell_type": "code",
      "source": [
        "#Building linear Model\n",
        "\n",
        "class RegLinearModel(nn.Module):\n",
        "  def __init__(self):\n",
        "    super().__init__()\n",
        "    self.linear_layer = nn.Linear(in_features=1, out_features=1)\n",
        "\n",
        "  def forward(self,x: torch.Tensor) -> torch.Tensor:\n",
        "    return self.linear_layer(x)  \n",
        "\n",
        "torch.manual_seed(42)\n",
        "model_01 = RegLinearModel()\n",
        "model_01, model_01.state_dict()"
      ],
      "metadata": {
        "colab": {
          "base_uri": "https://localhost:8080/"
        },
        "id": "wgaBkhhHHcvM",
        "outputId": "0f9e402b-d393-4d15-aa4b-000de0adc30e"
      },
      "execution_count": 87,
      "outputs": [
        {
          "output_type": "execute_result",
          "data": {
            "text/plain": [
              "(RegLinearModel(\n",
              "   (linear_layer): Linear(in_features=1, out_features=1, bias=True)\n",
              " ),\n",
              " OrderedDict([('linear_layer.weight', tensor([[0.7645]])),\n",
              "              ('linear_layer.bias', tensor([0.8300]))]))"
            ]
          },
          "metadata": {},
          "execution_count": 87
        }
      ]
    },
    {
      "cell_type": "code",
      "source": [
        "#check device by default CPU\n",
        "#next(model_01.parameters()).device\n",
        "#convert it to gpu if exists\n",
        "model_01.to(device)\n",
        "next(model_01.parameters()).device"
      ],
      "metadata": {
        "colab": {
          "base_uri": "https://localhost:8080/"
        },
        "id": "StthSSlLKJKu",
        "outputId": "c0e029e6-1a22-4a12-c6d2-9e6f1a392e14"
      },
      "execution_count": 88,
      "outputs": [
        {
          "output_type": "execute_result",
          "data": {
            "text/plain": [
              "device(type='cuda', index=0)"
            ]
          },
          "metadata": {},
          "execution_count": 88
        }
      ]
    },
    {
      "cell_type": "code",
      "source": [
        "#Setup loss function and optimizer\n",
        "loss_fn = nn.L1Loss()\n",
        "\n",
        "#Setup optmizer\n",
        "optimizer = torch.optim.SGD(params=model_01.parameters(), lr=0.01)"
      ],
      "metadata": {
        "id": "J6lLFF5GK-wb"
      },
      "execution_count": 89,
      "outputs": []
    },
    {
      "cell_type": "code",
      "source": [
        "#Start training\n",
        "torch.manual_seed(42)\n",
        "epochs = 200\n",
        "\n",
        "#put everything on gpu if avaliable\n",
        "X_train = X_train.to(device)\n",
        "y_train = y_train.to(device)\n",
        "X_test = X_test.to(device)\n",
        "y_test = y_test.to(device)\n",
        "\n",
        "for epoch in range(epochs):\n",
        "  #evertime we train we want it to be in train mode\n",
        "  model_01.train()\n",
        "\n",
        "  #forward pass\n",
        "  y_pred = model_01(X_train)\n",
        "\n",
        "  #calculate loss \n",
        "  loss = loss_fn(y_pred, y_train)\n",
        "\n",
        "  #optimize zero grad\n",
        "  optimizer.zero_grad()\n",
        "\n",
        "  #perform backpropgation\n",
        "  loss.backward()\n",
        "\n",
        "  #optimizer step (better way to step .i.e bring line closer or push line)\n",
        "  optimizer.step()\n",
        "\n",
        "  #Testing current model\n",
        "  model_01.eval() #remove all unwanted things from model which are used during training\n",
        "\n",
        "  with torch.inference_mode():\n",
        "    #predict current model with test data\n",
        "    test_pred = model_01(X_test)\n",
        "\n",
        "    #calculate loss function\n",
        "    test_loss = loss_fn(test_pred, y_test)\n",
        "\n",
        "  if epoch %100 == 0:\n",
        "    print(f\"Epoch: {epoch} | loss: {loss} | test_loss: {test_loss}\")\n"
      ],
      "metadata": {
        "colab": {
          "base_uri": "https://localhost:8080/"
        },
        "id": "BP4h0SbeMyjm",
        "outputId": "100fb2d3-3081-4222-9491-b622926021c4"
      },
      "execution_count": 90,
      "outputs": [
        {
          "output_type": "stream",
          "name": "stdout",
          "text": [
            "Epoch: 0 | loss: 0.5551779866218567 | test_loss: 0.5739762187004089\n",
            "Epoch: 100 | loss: 0.006215683650225401 | test_loss: 0.014086711220443249\n"
          ]
        }
      ]
    },
    {
      "cell_type": "code",
      "source": [],
      "metadata": {
        "id": "7imlFEdlWID5"
      },
      "execution_count": null,
      "outputs": []
    },
    {
      "cell_type": "code",
      "source": [
        "model_01.state_dict()"
      ],
      "metadata": {
        "colab": {
          "base_uri": "https://localhost:8080/"
        },
        "id": "_IEHipB8QBHv",
        "outputId": "3879b676-446a-4972-b815-5645bb2edf1a"
      },
      "execution_count": 91,
      "outputs": [
        {
          "output_type": "execute_result",
          "data": {
            "text/plain": [
              "OrderedDict([('linear_layer.weight', tensor([[0.6968]], device='cuda:0')),\n",
              "             ('linear_layer.bias', tensor([0.3025], device='cuda:0'))])"
            ]
          },
          "metadata": {},
          "execution_count": 91
        }
      ]
    },
    {
      "cell_type": "code",
      "source": [
        "#Start Making Prediction \n",
        "\n",
        "#turn into eval as everytime we make prediction or inference we should switch our model to eval\n",
        "model_01.eval()\n",
        "\n",
        "with torch.inference_mode():\n",
        "  y_pred = model_01(X_test)\n",
        "\n",
        "plot_predictions(predictions=y_pred.cpu()) #.cpu because numpy is uses cpu and out y_pred is on gpu"
      ],
      "metadata": {
        "colab": {
          "base_uri": "https://localhost:8080/",
          "height": 428
        },
        "id": "tTYAiv1aSguT",
        "outputId": "88c6d2d4-fc3d-4147-81e9-0d79f4381d37"
      },
      "execution_count": 92,
      "outputs": [
        {
          "output_type": "display_data",
          "data": {
            "text/plain": [
              "<Figure size 720x504 with 1 Axes>"
            ],
            "image/png": "[encoded data removed]"
          },
          "metadata": {
            "needs_background": "light"
          }
        }
      ]
    },
    {
      "cell_type": "code",
      "source": [
        "#Save and Load the model\n",
        "\n",
        "from pathlib import Path\n",
        "\n",
        "#create model dir\n",
        "MODEL_PATH = Path(\"models\")\n",
        "MODEL_PATH.mkdir(parents=True, exist_ok=True)\n",
        "\n",
        "#create model save path\n",
        "MODEL_NAME = \"model_01.pth\"\n",
        "MODEL_SAVE_PATH = MODEL_PATH / MODEL_NAME\n",
        "\n",
        "#save model\n",
        "torch.save(obj=model_01.state_dict(), f=MODEL_SAVE_PATH)\n",
        "print(f\"Save Model to {MODEL_SAVE_PATH}\")"
      ],
      "metadata": {
        "colab": {
          "base_uri": "https://localhost:8080/"
        },
        "id": "9vGjEUQaWJtv",
        "outputId": "e61e4b78-da42-418b-b167-8a296f4f1d5b"
      },
      "execution_count": 93,
      "outputs": [
        {
          "output_type": "stream",
          "name": "stdout",
          "text": [
            "Save Model to models/model_01.pth\n"
          ]
        }
      ]
    },
    {
      "cell_type": "code",
      "source": [
        "#load model\n",
        "\n",
        "#create new instance of model\n",
        "loaded_model = RegLinearModel()\n",
        "\n",
        "#load saved dict into model\n",
        "loaded_model.load_state_dict(torch.load(MODEL_SAVE_PATH))\n",
        "\n",
        "#save model to device\n",
        "loaded_model.to(device)\n"
      ],
      "metadata": {
        "colab": {
          "base_uri": "https://localhost:8080/"
        },
        "id": "GMee2igoXqE8",
        "outputId": "9d738f88-c8cd-42d7-9af4-554cbf728c05"
      },
      "execution_count": 94,
      "outputs": [
        {
          "output_type": "execute_result",
          "data": {
            "text/plain": [
              "RegLinearModel(\n",
              "  (linear_layer): Linear(in_features=1, out_features=1, bias=True)\n",
              ")"
            ]
          },
          "metadata": {},
          "execution_count": 94
        }
      ]
    },
    {
      "cell_type": "code",
      "source": [
        "#lets start predecting\n",
        "loaded_model.eval()\n",
        "\n",
        "with torch.inference_mode():\n",
        "  loaded_y_pred = loaded_model(X_test)\n",
        "\n",
        "y_pred == loaded_y_pred\n"
      ],
      "metadata": {
        "colab": {
          "base_uri": "https://localhost:8080/"
        },
        "id": "i8c9-NQeXqZJ",
        "outputId": "939c4de4-576d-48bc-87ae-732730853ab9"
      },
      "execution_count": 97,
      "outputs": [
        {
          "output_type": "execute_result",
          "data": {
            "text/plain": [
              "tensor([[True],\n",
              "        [True],\n",
              "        [True],\n",
              "        [True],\n",
              "        [True],\n",
              "        [True],\n",
              "        [True],\n",
              "        [True],\n",
              "        [True],\n",
              "        [True]], device='cuda:0')"
            ]
          },
          "metadata": {},
          "execution_count": 97
        }
      ]
    }
  ]
}